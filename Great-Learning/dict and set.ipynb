{
 "cells": [
  {
   "cell_type": "code",
   "execution_count": 1,
   "id": "955e3f34-c1a4-4591-84e2-d460096e3eb0",
   "metadata": {},
   "outputs": [
    {
     "name": "stdout",
     "output_type": "stream",
     "text": [
      "{'a': 45, 'b': 78, 'c': 98, 'd': 90}\n"
     ]
    }
   ],
   "source": [
    "d={\"a\":45,\"b\":78,\"c\":98,\"d\":90}\n",
    "print(d)"
   ]
  },
  {
   "cell_type": "code",
   "execution_count": 2,
   "id": "45e5a014-b412-432d-b7e8-eb21a6072915",
   "metadata": {},
   "outputs": [
    {
     "data": {
      "text/plain": [
       "dict"
      ]
     },
     "execution_count": 2,
     "metadata": {},
     "output_type": "execute_result"
    }
   ],
   "source": [
    "type(d)"
   ]
  },
  {
   "cell_type": "code",
   "execution_count": 7,
   "id": "514f8c85-cdb4-4ff0-a481-66e51041fd5a",
   "metadata": {},
   "outputs": [
    {
     "name": "stdout",
     "output_type": "stream",
     "text": [
      "dict_keys(['a', 'b', 'c', 'd'])\n",
      "dict_values([45, 78, 98, 90])\n",
      "dict_items([('a', 45), ('b', 78), ('c', 98), ('d', 90)])\n"
     ]
    }
   ],
   "source": [
    "print(d.keys())\n",
    "print(d.values())\n",
    "print(d.items())"
   ]
  },
  {
   "cell_type": "code",
   "execution_count": 4,
   "id": "e8944f2c-702e-412e-bcaf-acdda428d67d",
   "metadata": {},
   "outputs": [
    {
     "name": "stdout",
     "output_type": "stream",
     "text": [
      "4\n"
     ]
    }
   ],
   "source": [
    "print(len(d))"
   ]
  },
  {
   "cell_type": "code",
   "execution_count": 8,
   "id": "6159ba82-21f2-4953-ab41-05ed429e1367",
   "metadata": {},
   "outputs": [
    {
     "name": "stdout",
     "output_type": "stream",
     "text": [
      "{'a': 45, 'b': 78, 'c': 98, 'd': 90, 'e': 77}\n"
     ]
    }
   ],
   "source": [
    "d[\"e\"]=77\n",
    "print(d)"
   ]
  },
  {
   "cell_type": "code",
   "execution_count": 13,
   "id": "bfc07484-26b0-4f44-907e-db4fadab1f1e",
   "metadata": {},
   "outputs": [
    {
     "name": "stdout",
     "output_type": "stream",
     "text": [
      "None\n",
      "{'a': 45, 'b': 78, 'c': 98, 'd': 90, 'e': 77, 'x': 100, 'y': 101, 'z': 103}\n"
     ]
    }
   ],
   "source": [
    "d2={\"x\":100,\"y\":101,\"z\":103}\n",
    "print(d.update(d2))\n",
    "print(d)"
   ]
  },
  {
   "cell_type": "code",
   "execution_count": 17,
   "id": "b2cbec97-cddb-46fe-898e-cb36b2f1e235",
   "metadata": {},
   "outputs": [
    {
     "ename": "KeyError",
     "evalue": "'c'",
     "output_type": "error",
     "traceback": [
      "\u001b[1;31m---------------------------------------------------------------------------\u001b[0m",
      "\u001b[1;31mKeyError\u001b[0m                                  Traceback (most recent call last)",
      "Cell \u001b[1;32mIn[17], line 1\u001b[0m\n\u001b[1;32m----> 1\u001b[0m d\u001b[38;5;241m.\u001b[39mpop(\u001b[38;5;124m'\u001b[39m\u001b[38;5;124mc\u001b[39m\u001b[38;5;124m'\u001b[39m)\n",
      "\u001b[1;31mKeyError\u001b[0m: 'c'"
     ]
    }
   ],
   "source": [
    "d.pop('c')"
   ]
  },
  {
   "cell_type": "code",
   "execution_count": 16,
   "id": "c98f14a1-cf6f-4558-aac2-be080647208f",
   "metadata": {},
   "outputs": [
    {
     "name": "stdout",
     "output_type": "stream",
     "text": [
      "{'a': 45, 'b': 78, 'd': 90, 'e': 77, 'x': 100, 'y': 101, 'z': 103}\n"
     ]
    }
   ],
   "source": [
    "print(d)"
   ]
  },
  {
   "cell_type": "markdown",
   "id": "c3b74e85-2673-4c69-8074-7c4d6ce217b7",
   "metadata": {},
   "source": [
    "Sets"
   ]
  },
  {
   "cell_type": "code",
   "execution_count": 20,
   "id": "8e8f949a-5e54-489f-b1fa-9fc960efd8e5",
   "metadata": {},
   "outputs": [
    {
     "name": "stdout",
     "output_type": "stream",
     "text": [
      "{1, 2, 'fds', 'spaerta'}\n",
      "<class 'set'>\n"
     ]
    }
   ],
   "source": [
    "s={1,2,'fds','spaerta'}\n",
    "print(s)\n",
    "print(type(s))"
   ]
  },
  {
   "cell_type": "code",
   "execution_count": 21,
   "id": "05e34ba6-6034-4946-882d-b4f4f60ec81c",
   "metadata": {},
   "outputs": [],
   "source": [
    "s.add(True)"
   ]
  },
  {
   "cell_type": "code",
   "execution_count": 22,
   "id": "04d52b65-331f-4a60-8839-66f8ce5074d4",
   "metadata": {},
   "outputs": [
    {
     "name": "stdout",
     "output_type": "stream",
     "text": [
      "{1, 2, 'fds', 'spaerta'}\n"
     ]
    }
   ],
   "source": [
    "print(s)"
   ]
  },
  {
   "cell_type": "code",
   "execution_count": 25,
   "id": "bcf16f1b-7acf-4efe-b31d-a89d301b37a9",
   "metadata": {},
   "outputs": [],
   "source": [
    "s.update(['hello',8.9,5+7j])"
   ]
  },
  {
   "cell_type": "code",
   "execution_count": 26,
   "id": "5c978ae7-7405-445a-87b7-919495b95d4a",
   "metadata": {},
   "outputs": [
    {
     "name": "stdout",
     "output_type": "stream",
     "text": [
      "{1, 2, 'hello', 'spaerta', 8.9, 'fds', (5+7j)}\n"
     ]
    }
   ],
   "source": [
    "print(s)"
   ]
  },
  {
   "cell_type": "code",
   "execution_count": 27,
   "id": "1eff2309-b58d-47cd-b148-fb48170a0e1f",
   "metadata": {},
   "outputs": [],
   "source": [
    "s.remove(1)"
   ]
  },
  {
   "cell_type": "code",
   "execution_count": 28,
   "id": "72d3f35f-97ef-4dd8-96e4-17284ce9e1c2",
   "metadata": {},
   "outputs": [
    {
     "name": "stdout",
     "output_type": "stream",
     "text": [
      "{2, 'hello', 'spaerta', 8.9, 'fds', (5+7j)}\n"
     ]
    }
   ],
   "source": [
    "print(s)\n"
   ]
  },
  {
   "cell_type": "code",
   "execution_count": 30,
   "id": "60e8100f-3160-401b-b2be-5e612a7a2d8d",
   "metadata": {},
   "outputs": [
    {
     "name": "stdout",
     "output_type": "stream",
     "text": [
      "{2, 'hello', 'spaerta', 8.9, 'fds', 'c', 'b', 'a', (5+7j)}\n"
     ]
    }
   ],
   "source": [
    "s2={'a','b','c',2,'hello',8.9}\n",
    "print(s.union(s2))"
   ]
  },
  {
   "cell_type": "code",
   "execution_count": 31,
   "id": "a216ad94-0cd7-4fe0-92e8-518360fa3632",
   "metadata": {},
   "outputs": [
    {
     "name": "stdout",
     "output_type": "stream",
     "text": [
      "{8.9, 2, 'hello'}\n"
     ]
    }
   ],
   "source": [
    "print(s.intersection(s2))"
   ]
  },
  {
   "cell_type": "code",
   "execution_count": null,
   "id": "753cb338-0185-4ee8-8694-d4e5da172250",
   "metadata": {},
   "outputs": [],
   "source": [
    " "
   ]
  }
 ],
 "metadata": {
  "kernelspec": {
   "display_name": "Python 3 (ipykernel)",
   "language": "python",
   "name": "python3"
  },
  "language_info": {
   "codemirror_mode": {
    "name": "ipython",
    "version": 3
   },
   "file_extension": ".py",
   "mimetype": "text/x-python",
   "name": "python",
   "nbconvert_exporter": "python",
   "pygments_lexer": "ipython3",
   "version": "3.12.7"
  }
 },
 "nbformat": 4,
 "nbformat_minor": 5
}
