{
 "cells": [
  {
   "cell_type": "code",
   "execution_count": 4,
   "id": "82e18ef2-b5c5-481c-85b7-8a07f686eec0",
   "metadata": {},
   "outputs": [
    {
     "name": "stdout",
     "output_type": "stream",
     "text": [
      "1 2 3 4 5 6 7 8 9 "
     ]
    }
   ],
   "source": [
    "i=1\n",
    "while i<10:\n",
    "    print(i,end=\" \")\n",
    "    i+=1"
   ]
  },
  {
   "cell_type": "code",
   "execution_count": 5,
   "id": "a0a0dcaa-5e8d-4949-ba26-77f9eff96d44",
   "metadata": {},
   "outputs": [
    {
     "name": "stdout",
     "output_type": "stream",
     "text": [
      "2 *  1 = 2\n",
      "2 *  2 = 4\n",
      "2 *  3 = 6\n",
      "2 *  4 = 8\n",
      "2 *  5 = 10\n",
      "2 *  6 = 12\n",
      "2 *  7 = 14\n",
      "2 *  8 = 16\n",
      "2 *  9 = 18\n",
      "2 *  10 = 20\n"
     ]
    }
   ],
   "source": [
    "i=1\n",
    "n=2\n",
    "while i<=10:\n",
    "    print(n , \"* \",i,'=',n*i)\n",
    "    i+=1"
   ]
  },
  {
   "cell_type": "code",
   "execution_count": 6,
   "id": "2059e094-9ccb-4526-82ba-8778a4f294ab",
   "metadata": {},
   "outputs": [
    {
     "name": "stdout",
     "output_type": "stream",
     "text": [
      "[101, 102, 103, 104, 105]\n"
     ]
    }
   ],
   "source": [
    "l1=[1,2,3,4,5]\n",
    "i=0\n",
    "while i<len(l1):\n",
    "    l1[i]+=100\n",
    "    i+=1\n",
    "print(l1)"
   ]
  },
  {
   "cell_type": "code",
   "execution_count": 8,
   "id": "27d9c1da-6476-45e0-a587-1125fdcc4fa9",
   "metadata": {},
   "outputs": [
    {
     "name": "stdout",
     "output_type": "stream",
     "text": [
      "1 2 3 4 5 mango grapes "
     ]
    }
   ],
   "source": [
    "l1=[1,2,3,4,5,'mango','grapes']\n",
    "for ele in l1:\n",
    "    print(ele,end=\" \")"
   ]
  },
  {
   "cell_type": "code",
   "execution_count": 13,
   "id": "c77b1fad-9e9b-4889-bb44-b51f7f5defb8",
   "metadata": {},
   "outputs": [
    {
     "name": "stdout",
     "output_type": "stream",
     "text": [
      "orange chainr\n",
      "orange bok\n",
      "orange pencil\n",
      "white chainr\n",
      "white bok\n",
      "white pencil\n",
      "gren chainr\n",
      "gren bok\n",
      "gren pencil\n",
      "blue chainr\n",
      "blue bok\n",
      "blue pencil\n"
     ]
    }
   ],
   "source": [
    "l1=['orange','white','gren','blue']\n",
    "l2=['chainr','bok','pencil']\n",
    "for i in l1:\n",
    "    for j in l2:\n",
    "        print(i,j)"
   ]
  },
  {
   "cell_type": "code",
   "execution_count": 14,
   "id": "d33fb1a1-9adf-40fa-9fd2-fa16c1975503",
   "metadata": {},
   "outputs": [],
   "source": [
    "def func1():\n",
    "    print('hello world')"
   ]
  },
  {
   "cell_type": "code",
   "execution_count": 15,
   "id": "a889ded9-324f-4bbd-aa3d-76bb317a05d2",
   "metadata": {},
   "outputs": [
    {
     "name": "stdout",
     "output_type": "stream",
     "text": [
      "hello world\n"
     ]
    }
   ],
   "source": [
    "func1()"
   ]
  },
  {
   "cell_type": "code",
   "execution_count": 19,
   "id": "bbcb71b0-f469-478e-954b-bc7754b4f8da",
   "metadata": {},
   "outputs": [],
   "source": [
    "def add(a,b):\n",
    "    a=5\n",
    "    return a+b"
   ]
  },
  {
   "cell_type": "code",
   "execution_count": 22,
   "id": "f08fdb9e-9d61-4a0d-befe-c98af3e70b90",
   "metadata": {},
   "outputs": [
    {
     "data": {
      "text/plain": [
       "10"
      ]
     },
     "execution_count": 22,
     "metadata": {},
     "output_type": "execute_result"
    }
   ],
   "source": [
    "add(0,5)"
   ]
  },
  {
   "cell_type": "code",
   "execution_count": 23,
   "id": "edc628ce-b51d-434c-a2e9-2b2215cbab75",
   "metadata": {},
   "outputs": [],
   "source": [
    "def even(x):\n",
    "    return x%2==0"
   ]
  },
  {
   "cell_type": "code",
   "execution_count": 27,
   "id": "a97bf242-53af-4b39-946c-a614f51d7eb9",
   "metadata": {},
   "outputs": [
    {
     "data": {
      "text/plain": [
       "False"
      ]
     },
     "execution_count": 27,
     "metadata": {},
     "output_type": "execute_result"
    }
   ],
   "source": [
    "even(11)\n",
    "# even(8)"
   ]
  },
  {
   "cell_type": "code",
   "execution_count": 25,
   "id": "f53bca89-52ef-4c3c-a1a3-bcc926f4eedc",
   "metadata": {},
   "outputs": [
    {
     "data": {
      "text/plain": [
       "True"
      ]
     },
     "execution_count": 25,
     "metadata": {},
     "output_type": "execute_result"
    }
   ],
   "source": [
    "even(10)"
   ]
  },
  {
   "cell_type": "code",
   "execution_count": 28,
   "id": "b51acb68-9195-4e32-bc93-3310575ca434",
   "metadata": {},
   "outputs": [],
   "source": [
    "h=lambda x : x*x*x"
   ]
  },
  {
   "cell_type": "code",
   "execution_count": 30,
   "id": "1ae17a1e-9f65-4520-a81c-5474f22fe33e",
   "metadata": {},
   "outputs": [
    {
     "data": {
      "text/plain": [
       "125"
      ]
     },
     "execution_count": 30,
     "metadata": {},
     "output_type": "execute_result"
    }
   ],
   "source": [
    "h(5)"
   ]
  },
  {
   "cell_type": "code",
   "execution_count": 33,
   "id": "a6d8d3bc-5301-4b8f-9b94-f9f9bdd4e020",
   "metadata": {},
   "outputs": [
    {
     "name": "stdout",
     "output_type": "stream",
     "text": [
      "[2, 72]\n"
     ]
    }
   ],
   "source": [
    "# lambda with filter\n",
    "l1=[2,5243,45,43,3,72,45,443]\n",
    "z=list(filter(lambda x:(x%2==0),l1))\n",
    "print(z)"
   ]
  },
  {
   "cell_type": "code",
   "execution_count": 34,
   "id": "e09c9692-1ca9-4686-9c22-fc2738b8e590",
   "metadata": {},
   "outputs": [
    {
     "name": "stdout",
     "output_type": "stream",
     "text": [
      "[4, 6, 8, 10, 12, 14, 16, 18]\n"
     ]
    }
   ],
   "source": [
    "# lambda with math\n",
    "l1=[2,3,4,5,6,7,8,9]\n",
    "z=list(map(lambda x:(x*2),l1))\n",
    "print(z)"
   ]
  },
  {
   "cell_type": "code",
   "execution_count": 35,
   "id": "ff8662d1-44f4-4782-9aad-16641d80454b",
   "metadata": {},
   "outputs": [
    {
     "name": "stdout",
     "output_type": "stream",
     "text": [
      "44\n"
     ]
    }
   ],
   "source": [
    "from functools import reduce\n",
    "sum=reduce(lambda x,y:x+y,l1)\n",
    "print(sum)"
   ]
  },
  {
   "cell_type": "markdown",
   "id": "4fbb6476-a2f9-4dd9-976e-756f4129555e",
   "metadata": {},
   "source": [
    "OOPS"
   ]
  },
  {
   "cell_type": "code",
   "execution_count": 36,
   "id": "2591bf5f-05dd-4b39-bb61-7d9947e91be6",
   "metadata": {},
   "outputs": [],
   "source": [
    "class Phone:\n",
    "    def make_calls():\n",
    "        print(\"making phone call\")\n",
    "    def play_games():\n",
    "        print(\"playing games\")"
   ]
  },
  {
   "cell_type": "code",
   "execution_count": 44,
   "id": "5a6c0934-4d14-4cec-9445-ac381fa2569d",
   "metadata": {},
   "outputs": [],
   "source": [
    "p1 = Phone()"
   ]
  },
  {
   "cell_type": "code",
   "execution_count": 45,
   "id": "724d0bb2-5ab6-4aa2-9ab2-556407f2b293",
   "metadata": {},
   "outputs": [
    {
     "name": "stdout",
     "output_type": "stream",
     "text": [
      "making phone call\n"
     ]
    }
   ],
   "source": [
    "p1.make_calls()"
   ]
  },
  {
   "cell_type": "code",
   "execution_count": 46,
   "id": "800d989b-307a-4ebc-bdfe-217d8eec6993",
   "metadata": {},
   "outputs": [
    {
     "name": "stdout",
     "output_type": "stream",
     "text": [
      "playing games\n"
     ]
    }
   ],
   "source": [
    "p1.play_games()"
   ]
  },
  {
   "cell_type": "code",
   "execution_count": 43,
   "id": "77a1b694-11d7-46fe-a7aa-e245fc786553",
   "metadata": {},
   "outputs": [
    {
     "name": "stdout",
     "output_type": "stream",
     "text": [
      "making phone call\n",
      "playing games\n"
     ]
    }
   ],
   "source": [
    "class Phone:\n",
    "    def make_calls(self):\n",
    "        print(\"making phone call\")\n",
    "    \n",
    "    def play_games(self):\n",
    "        print(\"playing games\")\n",
    "\n",
    "p1 = Phone()   # create object\n",
    "p1.make_calls()  # call method\n",
    "p1.play_games()\n"
   ]
  },
  {
   "cell_type": "code",
   "execution_count": 47,
   "id": "c2efa1bf-6fbe-4997-a6f5-fc7310d862da",
   "metadata": {},
   "outputs": [],
   "source": [
    "class Phone:\n",
    "    def set_color(self,color):\n",
    "        self.color=color\n",
    "\n",
    "    def set_cost(self,cost):\n",
    "        self.cost=cost\n",
    "    def show_color(self):\n",
    "        return self.color\n",
    "    def show_cost(self):\n",
    "        return self.cost\n",
    "    def make_call(self):\n",
    "        print(\"make call\")\n",
    "    def play_game(self):\n",
    "        print(\"play game\")"
   ]
  },
  {
   "cell_type": "code",
   "execution_count": 48,
   "id": "5c9b14d0-3e6a-4efc-9d1d-3992907a43a0",
   "metadata": {},
   "outputs": [],
   "source": [
    "p=Phone()"
   ]
  },
  {
   "cell_type": "code",
   "execution_count": 49,
   "id": "a72631b4-ba56-49f5-aee9-eeaae8b71061",
   "metadata": {},
   "outputs": [],
   "source": [
    "p.set_color('blue')"
   ]
  },
  {
   "cell_type": "code",
   "execution_count": 50,
   "id": "c0df523a-1470-44d5-908c-536a9bea436f",
   "metadata": {},
   "outputs": [],
   "source": [
    "p.set_cost(17000)"
   ]
  },
  {
   "cell_type": "code",
   "execution_count": 51,
   "id": "132bc223-8439-4ee9-b445-716a5cd4eaf8",
   "metadata": {},
   "outputs": [
    {
     "data": {
      "text/plain": [
       "'blue'"
      ]
     },
     "execution_count": 51,
     "metadata": {},
     "output_type": "execute_result"
    }
   ],
   "source": [
    "p.show_color()"
   ]
  },
  {
   "cell_type": "code",
   "execution_count": 52,
   "id": "239d8b2b-52dc-472f-8b9b-8401f1d83873",
   "metadata": {},
   "outputs": [
    {
     "data": {
      "text/plain": [
       "17000"
      ]
     },
     "execution_count": 52,
     "metadata": {},
     "output_type": "execute_result"
    }
   ],
   "source": [
    "p.show_cost()"
   ]
  },
  {
   "cell_type": "code",
   "execution_count": 53,
   "id": "9e9c7410-c27d-4fc2-89a8-0ea8ff2f4baa",
   "metadata": {},
   "outputs": [
    {
     "name": "stdout",
     "output_type": "stream",
     "text": [
      "make call\n"
     ]
    }
   ],
   "source": [
    "p.make_call()"
   ]
  },
  {
   "cell_type": "code",
   "execution_count": 54,
   "id": "cc18b8c9-7aea-4142-b418-d4fda19a1ef5",
   "metadata": {},
   "outputs": [
    {
     "name": "stdout",
     "output_type": "stream",
     "text": [
      "play game\n"
     ]
    }
   ],
   "source": [
    "p.play_game()"
   ]
  },
  {
   "cell_type": "markdown",
   "id": "b42fb5a7-d82e-46df-946c-f3b657c7e615",
   "metadata": {},
   "source": [
    "Constructor"
   ]
  },
  {
   "cell_type": "code",
   "execution_count": 61,
   "id": "84cbe2ab-61e2-4f5f-9652-a4306c9a2523",
   "metadata": {},
   "outputs": [],
   "source": [
    "class Phon:\n",
    "    def __init__(self,color,cost):\n",
    "        self.color=color\n",
    "        self.cost=cost\n",
    "    def detail(self):\n",
    "        print(\"color is :\",self.color)\n",
    "        print(\"cost is :\",self.cost)"
   ]
  },
  {
   "cell_type": "code",
   "execution_count": 63,
   "id": "7dc9df74-c354-46e3-ac5a-38f133bfaa88",
   "metadata": {},
   "outputs": [],
   "source": [
    "p2=Phon('orange',18000)"
   ]
  },
  {
   "cell_type": "code",
   "execution_count": 65,
   "id": "bb060833-f874-4339-a2d4-f64fe3cba874",
   "metadata": {},
   "outputs": [
    {
     "name": "stdout",
     "output_type": "stream",
     "text": [
      "color is : orange\n",
      "cost is : 18000\n"
     ]
    }
   ],
   "source": [
    "p2.detail()"
   ]
  },
  {
   "cell_type": "markdown",
   "id": "da079dbd-e039-4a02-82f6-757a32d0f883",
   "metadata": {},
   "source": [
    "Inheritance"
   ]
  },
  {
   "cell_type": "code",
   "execution_count": 1,
   "id": "6f9d01b1-6f83-43c3-903b-88d1b97f3f6b",
   "metadata": {},
   "outputs": [],
   "source": [
    "class vehicle:\n",
    "    def __init__(self,color,milage,cost):\n",
    "        self.color=color\n",
    "        self.milage=milage\n",
    "        self.cost=cost\n",
    "\n",
    "    def detail(self):\n",
    "        print(\"this is car is:\")\n",
    "        print(\"car color is:\",self.color)\n",
    "        print(\"car milage is:\",self.milage)\n",
    "        print(\"car cost is :\",self.cost)"
   ]
  },
  {
   "cell_type": "code",
   "execution_count": 2,
   "id": "2a569674-b763-4aa2-87cd-767acbc2fa72",
   "metadata": {},
   "outputs": [],
   "source": [
    "v1=vehicle('orange',40,300000)"
   ]
  },
  {
   "cell_type": "code",
   "execution_count": 3,
   "id": "0443ab43-3449-4368-82a4-44c127679acb",
   "metadata": {},
   "outputs": [
    {
     "name": "stdout",
     "output_type": "stream",
     "text": [
      "this is car is:\n",
      "car color is: orange\n",
      "car milage is: 40\n",
      "car cost is : 300000\n"
     ]
    }
   ],
   "source": [
    "v1.detail()"
   ]
  },
  {
   "cell_type": "markdown",
   "id": "e5ccbf24-d3be-4748-b092-ff328d4fb5a6",
   "metadata": {},
   "source": [
    "simple Inheritance"
   ]
  },
  {
   "cell_type": "code",
   "execution_count": 7,
   "id": "6eef1b5f-7fcd-4e56-8dbc-5dc3a6ca9b99",
   "metadata": {},
   "outputs": [],
   "source": [
    "class car(vehicle):\n",
    "    def show(self):\n",
    "        print(\"this is car\")\n",
    "\n"
   ]
  },
  {
   "cell_type": "code",
   "execution_count": 8,
   "id": "56ff895c-f918-4902-88c6-bed29f8a0492",
   "metadata": {},
   "outputs": [
    {
     "name": "stdout",
     "output_type": "stream",
     "text": [
      "this is car is:\n",
      "car color is: black\n",
      "car milage is: 35\n",
      "car cost is : 35000000\n"
     ]
    }
   ],
   "source": [
    "c1=car('black',35,35000000)\n",
    "c1.detail()"
   ]
  },
  {
   "cell_type": "code",
   "execution_count": 9,
   "id": "0dc8d021-02b1-439e-bd73-e98ab5ab5893",
   "metadata": {},
   "outputs": [
    {
     "name": "stdout",
     "output_type": "stream",
     "text": [
      "this is car\n"
     ]
    }
   ],
   "source": [
    "c1.show()"
   ]
  },
  {
   "cell_type": "code",
   "execution_count": 18,
   "id": "34fdb371-dd6e-4927-a333-48b06fc1879d",
   "metadata": {},
   "outputs": [],
   "source": [
    "class truck(vehicle):\n",
    "    def __init__(self,color,milage,cost,name):\n",
    "        super().__init__(color,milage,cost)\n",
    "        self.name=name\n",
    "    def c_detail(self):\n",
    "        print(\"i am a truck\")\n",
    "        print(\"truck name is:\",self.name)"
   ]
  },
  {
   "cell_type": "code",
   "execution_count": 19,
   "id": "e639d3c9-aaf2-4fc5-8d5d-c4720f2e5693",
   "metadata": {},
   "outputs": [],
   "source": [
    "t1=truck('mahi','blue',20,200000)"
   ]
  },
  {
   "cell_type": "code",
   "execution_count": 23,
   "id": "894047d3-827b-48dc-9847-f7961e2f47d4",
   "metadata": {},
   "outputs": [
    {
     "name": "stdout",
     "output_type": "stream",
     "text": [
      "this is car is:\n",
      "car color is: mahi\n",
      "car milage is: blue\n",
      "car cost is : 20\n"
     ]
    }
   ],
   "source": [
    "t1.detail()"
   ]
  },
  {
   "cell_type": "code",
   "execution_count": 21,
   "id": "0c455955-e4dc-4475-8275-a2b9a45d56f7",
   "metadata": {},
   "outputs": [
    {
     "name": "stdout",
     "output_type": "stream",
     "text": [
      "i am a truck\n",
      "truck name is: 200000\n"
     ]
    }
   ],
   "source": [
    "t1.c_detail()"
   ]
  },
  {
   "cell_type": "markdown",
   "id": "fa10ad71-92d7-44ee-b823-aa2113519956",
   "metadata": {},
   "source": [
    "MultiPle Inheritance"
   ]
  },
  {
   "cell_type": "code",
   "execution_count": 24,
   "id": "25d917f0-29cd-408d-bc3e-26f49c094d66",
   "metadata": {},
   "outputs": [],
   "source": [
    "class parent1():\n",
    "    def assign_str_one(self,str1):\n",
    "        self.str1=str1\n",
    "\n",
    "    def show_str_one(self):\n",
    "        return self.str1"
   ]
  },
  {
   "cell_type": "code",
   "execution_count": 25,
   "id": "57170599-a907-49ea-a4bb-56743f2d1506",
   "metadata": {},
   "outputs": [],
   "source": [
    "class parent2():\n",
    "    def assign_str_two(self,str2):\n",
    "        self.str2=str2\n",
    "\n",
    "    def show_str_two(self):\n",
    "        return self.str2\n",
    "    "
   ]
  },
  {
   "cell_type": "code",
   "execution_count": 26,
   "id": "b3828037-676f-4010-92ad-5d6e28200014",
   "metadata": {},
   "outputs": [],
   "source": [
    "class child(parent1,parent2):\n",
    "    def assign_str_three(self,str3):\n",
    "        self.str3=str3\n",
    "\n",
    "    def show_str_three(self):\n",
    "        return self.str3"
   ]
  },
  {
   "cell_type": "code",
   "execution_count": 27,
   "id": "1a5090a3-b45d-46e5-a070-7e98843cd677",
   "metadata": {},
   "outputs": [],
   "source": [
    "my_child=child()"
   ]
  },
  {
   "cell_type": "code",
   "execution_count": 28,
   "id": "4cba2789-e643-4466-9874-74f3dff85a0c",
   "metadata": {},
   "outputs": [],
   "source": [
    "my_child.assign_str_one(\"i am string of parent1\")"
   ]
  },
  {
   "cell_type": "code",
   "execution_count": 29,
   "id": "c226ae15-c5bc-49cb-b488-388674d187a3",
   "metadata": {},
   "outputs": [],
   "source": [
    "my_child.assign_str_two(\"i am string of parent2\")"
   ]
  },
  {
   "cell_type": "code",
   "execution_count": 30,
   "id": "8db0975a-febe-4b1b-9d9a-74c5f7056173",
   "metadata": {},
   "outputs": [],
   "source": [
    "my_child.assign_str_three(\"i am string of parent3\")"
   ]
  },
  {
   "cell_type": "code",
   "execution_count": 31,
   "id": "6ffd2d3f-e774-4555-b93d-1f92f266ddad",
   "metadata": {},
   "outputs": [
    {
     "data": {
      "text/plain": [
       "'i am string of parent1'"
      ]
     },
     "execution_count": 31,
     "metadata": {},
     "output_type": "execute_result"
    }
   ],
   "source": [
    "my_child.show_str_one()"
   ]
  },
  {
   "cell_type": "code",
   "execution_count": 32,
   "id": "99e1e98d-663c-4c5f-9095-9db10d05eb7d",
   "metadata": {},
   "outputs": [
    {
     "data": {
      "text/plain": [
       "'i am string of parent2'"
      ]
     },
     "execution_count": 32,
     "metadata": {},
     "output_type": "execute_result"
    }
   ],
   "source": [
    "my_child.show_str_two()"
   ]
  },
  {
   "cell_type": "code",
   "execution_count": 33,
   "id": "98d1bf2c-c007-4520-8e91-ebbf7b76f5fa",
   "metadata": {},
   "outputs": [
    {
     "data": {
      "text/plain": [
       "'i am string of parent3'"
      ]
     },
     "execution_count": 33,
     "metadata": {},
     "output_type": "execute_result"
    }
   ],
   "source": [
    "my_child.show_str_three()"
   ]
  },
  {
   "cell_type": "markdown",
   "id": "9f058f35-c737-4aeb-8b2e-cc72b3cb57be",
   "metadata": {},
   "source": [
    "Multilevel Inheritance"
   ]
  },
  {
   "cell_type": "code",
   "execution_count": 36,
   "id": "24ced4fe-7994-480c-a2b3-c4f2c9b8f94a",
   "metadata": {},
   "outputs": [],
   "source": [
    "class parent():\n",
    "    def assign_name(self,name):\n",
    "        self.name=name\n",
    "\n",
    "    def show_name(self):\n",
    "        return self.name"
   ]
  },
  {
   "cell_type": "code",
   "execution_count": 37,
   "id": "43fafd73-369b-43b5-a2b7-8d425378b90c",
   "metadata": {},
   "outputs": [],
   "source": [
    "class child(parent):\n",
    "    def get_age(self,age):\n",
    "        self.age=age\n",
    "    def show_age(self):\n",
    "        return self.age\n",
    "        "
   ]
  },
  {
   "cell_type": "code",
   "execution_count": 38,
   "id": "bf9b6dd2-967d-4209-b2c2-fd8f59989df4",
   "metadata": {},
   "outputs": [],
   "source": [
    "class grandchild(child):\n",
    "    def get_gender(self,gender):\n",
    "        self.gender=gender\n",
    "    def show_gender(self):\n",
    "        return self.gender"
   ]
  },
  {
   "cell_type": "code",
   "execution_count": 42,
   "id": "635edd94-a89f-43fd-b945-10442f204971",
   "metadata": {},
   "outputs": [],
   "source": [
    "gc=grandchild()"
   ]
  },
  {
   "cell_type": "code",
   "execution_count": 44,
   "id": "6e258b4f-80c1-4ae4-9902-cf4d476160eb",
   "metadata": {},
   "outputs": [],
   "source": [
    "gc.assign_name(\"avinash\")"
   ]
  },
  {
   "cell_type": "code",
   "execution_count": 45,
   "id": "b9f9df40-53a4-47ca-8779-4b1300f5923f",
   "metadata": {},
   "outputs": [],
   "source": [
    "gc.get_age(20)"
   ]
  },
  {
   "cell_type": "code",
   "execution_count": 46,
   "id": "ad35f614-813c-42d6-9bfe-d7961a70da14",
   "metadata": {},
   "outputs": [],
   "source": [
    "gc.get_gender('male')"
   ]
  },
  {
   "cell_type": "code",
   "execution_count": 47,
   "id": "136b0e69-b17c-4582-9087-5a0eb4b279d9",
   "metadata": {},
   "outputs": [
    {
     "data": {
      "text/plain": [
       "'avinash'"
      ]
     },
     "execution_count": 47,
     "metadata": {},
     "output_type": "execute_result"
    }
   ],
   "source": [
    "gc.show_name()"
   ]
  },
  {
   "cell_type": "code",
   "execution_count": 48,
   "id": "c0939a89-ae12-4d00-8245-443ed4ce8470",
   "metadata": {},
   "outputs": [
    {
     "data": {
      "text/plain": [
       "20"
      ]
     },
     "execution_count": 48,
     "metadata": {},
     "output_type": "execute_result"
    }
   ],
   "source": [
    "gc.show_age()"
   ]
  },
  {
   "cell_type": "code",
   "execution_count": 49,
   "id": "5a96783a-d2ea-48de-b92e-2dc208c9a75c",
   "metadata": {},
   "outputs": [
    {
     "data": {
      "text/plain": [
       "'male'"
      ]
     },
     "execution_count": 49,
     "metadata": {},
     "output_type": "execute_result"
    }
   ],
   "source": [
    "gc.show_gender()"
   ]
  },
  {
   "cell_type": "code",
   "execution_count": null,
   "id": "a7ceeecb-4c93-4a09-becc-f2c6dd818848",
   "metadata": {},
   "outputs": [],
   "source": []
  }
 ],
 "metadata": {
  "kernelspec": {
   "display_name": "Python 3 (ipykernel)",
   "language": "python",
   "name": "python3"
  },
  "language_info": {
   "codemirror_mode": {
    "name": "ipython",
    "version": 3
   },
   "file_extension": ".py",
   "mimetype": "text/x-python",
   "name": "python",
   "nbconvert_exporter": "python",
   "pygments_lexer": "ipython3",
   "version": "3.12.7"
  }
 },
 "nbformat": 4,
 "nbformat_minor": 5
}
