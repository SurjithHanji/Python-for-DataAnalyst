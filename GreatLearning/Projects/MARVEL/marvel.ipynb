{
 "cells": [
  {
   "cell_type": "code",
   "execution_count": 1,
   "id": "97336f98-b399-4307-8c73-ed4b0dd4a3ed",
   "metadata": {},
   "outputs": [],
   "source": [
    "import pandas as pd\n",
    "import matplotlib.pyplot as plt"
   ]
  },
  {
   "cell_type": "code",
   "execution_count": 4,
   "id": "1d161b22-8cbb-4c01-8bef-17376f060771",
   "metadata": {},
   "outputs": [],
   "source": [
    "marvel=pd.read_csv('marvel_characters_dataset.csv')"
   ]
  },
  {
   "cell_type": "code",
   "execution_count": 5,
   "id": "a083f18b-f288-4927-bbb5-f87dc5e2d42a",
   "metadata": {},
   "outputs": [
    {
     "data": {
      "text/html": [
       "<div>\n",
       "<style scoped>\n",
       "    .dataframe tbody tr th:only-of-type {\n",
       "        vertical-align: middle;\n",
       "    }\n",
       "\n",
       "    .dataframe tbody tr th {\n",
       "        vertical-align: top;\n",
       "    }\n",
       "\n",
       "    .dataframe thead th {\n",
       "        text-align: right;\n",
       "    }\n",
       "</style>\n",
       "<table border=\"1\" class=\"dataframe\">\n",
       "  <thead>\n",
       "    <tr style=\"text-align: right;\">\n",
       "      <th></th>\n",
       "      <th>Character</th>\n",
       "      <th>Real Name</th>\n",
       "      <th>Affiliation</th>\n",
       "      <th>Powers</th>\n",
       "      <th>Role</th>\n",
       "      <th>Power Level</th>\n",
       "    </tr>\n",
       "  </thead>\n",
       "  <tbody>\n",
       "    <tr>\n",
       "      <th>0</th>\n",
       "      <td>iron man</td>\n",
       "      <td>Tony Stark</td>\n",
       "      <td>Avengers</td>\n",
       "      <td>Powered Armor, Genius-level intellect</td>\n",
       "      <td>Hero</td>\n",
       "      <td>Low</td>\n",
       "    </tr>\n",
       "    <tr>\n",
       "      <th>1</th>\n",
       "      <td>captain america</td>\n",
       "      <td>Steve Rogers</td>\n",
       "      <td>Avengers</td>\n",
       "      <td>Super Soldier, Enhanced strength</td>\n",
       "      <td>Hero</td>\n",
       "      <td>Low</td>\n",
       "    </tr>\n",
       "    <tr>\n",
       "      <th>2</th>\n",
       "      <td>thor</td>\n",
       "      <td>Thor Odinson</td>\n",
       "      <td>Avengers</td>\n",
       "      <td>God of Thunder, Weather manipulation</td>\n",
       "      <td>Hero</td>\n",
       "      <td>Low</td>\n",
       "    </tr>\n",
       "    <tr>\n",
       "      <th>3</th>\n",
       "      <td>black widow</td>\n",
       "      <td>Natasha Romanoff</td>\n",
       "      <td>Avengers</td>\n",
       "      <td>Superhuman strength, Espionage</td>\n",
       "      <td>Hero</td>\n",
       "      <td>Low</td>\n",
       "    </tr>\n",
       "    <tr>\n",
       "      <th>4</th>\n",
       "      <td>hulk</td>\n",
       "      <td>Bruce Banner</td>\n",
       "      <td>Avengers</td>\n",
       "      <td>Superhuman strength, Gamma Radiation</td>\n",
       "      <td>Hero</td>\n",
       "      <td>Low</td>\n",
       "    </tr>\n",
       "  </tbody>\n",
       "</table>\n",
       "</div>"
      ],
      "text/plain": [
       "         Character         Real Name Affiliation  \\\n",
       "0         iron man        Tony Stark    Avengers   \n",
       "1  captain america      Steve Rogers    Avengers   \n",
       "2             thor      Thor Odinson    Avengers   \n",
       "3      black widow  Natasha Romanoff    Avengers   \n",
       "4             hulk      Bruce Banner    Avengers   \n",
       "\n",
       "                                  Powers  Role Power Level  \n",
       "0  Powered Armor, Genius-level intellect  Hero         Low  \n",
       "1       Super Soldier, Enhanced strength  Hero         Low  \n",
       "2   God of Thunder, Weather manipulation  Hero         Low  \n",
       "3         Superhuman strength, Espionage  Hero         Low  \n",
       "4   Superhuman strength, Gamma Radiation  Hero         Low  "
      ]
     },
     "execution_count": 5,
     "metadata": {},
     "output_type": "execute_result"
    }
   ],
   "source": [
    "marvel.head()"
   ]
  },
  {
   "cell_type": "code",
   "execution_count": 6,
   "id": "aad44b99-360d-4350-a6e7-06ce49c8e0ea",
   "metadata": {},
   "outputs": [
    {
     "data": {
      "text/plain": [
       "(45, 6)"
      ]
     },
     "execution_count": 6,
     "metadata": {},
     "output_type": "execute_result"
    }
   ],
   "source": [
    "marvel.shape"
   ]
  },
  {
   "cell_type": "code",
   "execution_count": 7,
   "id": "f9dc8709-3449-48f6-84c5-3b3e94301fb0",
   "metadata": {},
   "outputs": [
    {
     "data": {
      "text/plain": [
       "270"
      ]
     },
     "execution_count": 7,
     "metadata": {},
     "output_type": "execute_result"
    }
   ],
   "source": [
    "marvel.size"
   ]
  },
  {
   "cell_type": "code",
   "execution_count": 8,
   "id": "a5e60f46-e821-49e0-a95e-7bc3715a17d1",
   "metadata": {},
   "outputs": [
    {
     "data": {
      "text/html": [
       "<div>\n",
       "<style scoped>\n",
       "    .dataframe tbody tr th:only-of-type {\n",
       "        vertical-align: middle;\n",
       "    }\n",
       "\n",
       "    .dataframe tbody tr th {\n",
       "        vertical-align: top;\n",
       "    }\n",
       "\n",
       "    .dataframe thead th {\n",
       "        text-align: right;\n",
       "    }\n",
       "</style>\n",
       "<table border=\"1\" class=\"dataframe\">\n",
       "  <thead>\n",
       "    <tr style=\"text-align: right;\">\n",
       "      <th></th>\n",
       "      <th>Character</th>\n",
       "      <th>Real Name</th>\n",
       "      <th>Affiliation</th>\n",
       "      <th>Powers</th>\n",
       "      <th>Role</th>\n",
       "      <th>Power Level</th>\n",
       "    </tr>\n",
       "  </thead>\n",
       "  <tbody>\n",
       "    <tr>\n",
       "      <th>40</th>\n",
       "      <td>doctor octopus</td>\n",
       "      <td>Mac Gargan</td>\n",
       "      <td>Sinister Six</td>\n",
       "      <td>Superhuman strength, Tentacle control</td>\n",
       "      <td>Hero</td>\n",
       "      <td>Low</td>\n",
       "    </tr>\n",
       "    <tr>\n",
       "      <th>41</th>\n",
       "      <td>mysterio</td>\n",
       "      <td>Eddie Brock</td>\n",
       "      <td>Sinister Six</td>\n",
       "      <td>Illusion creation, Hypnosis</td>\n",
       "      <td>Villain</td>\n",
       "      <td>Low</td>\n",
       "    </tr>\n",
       "    <tr>\n",
       "      <th>42</th>\n",
       "      <td>rhino</td>\n",
       "      <td>Carol Danvers</td>\n",
       "      <td>Sinister Six</td>\n",
       "      <td>Superhuman strength, Durability</td>\n",
       "      <td>Villain</td>\n",
       "      <td>Low</td>\n",
       "    </tr>\n",
       "    <tr>\n",
       "      <th>43</th>\n",
       "      <td>venom</td>\n",
       "      <td>Eddie Brock</td>\n",
       "      <td>Avengers</td>\n",
       "      <td>Symbiote bonding, Enhanced strength</td>\n",
       "      <td>Antihero</td>\n",
       "      <td>Low</td>\n",
       "    </tr>\n",
       "    <tr>\n",
       "      <th>44</th>\n",
       "      <td>captain marvel</td>\n",
       "      <td>Carol Danvers</td>\n",
       "      <td>Avengers</td>\n",
       "      <td>Flight, Superhuman strength, Cosmic energy</td>\n",
       "      <td>Hero</td>\n",
       "      <td>Low</td>\n",
       "    </tr>\n",
       "  </tbody>\n",
       "</table>\n",
       "</div>"
      ],
      "text/plain": [
       "         Character      Real Name   Affiliation  \\\n",
       "40  doctor octopus     Mac Gargan  Sinister Six   \n",
       "41        mysterio    Eddie Brock  Sinister Six   \n",
       "42           rhino  Carol Danvers  Sinister Six   \n",
       "43           venom    Eddie Brock      Avengers   \n",
       "44  captain marvel  Carol Danvers      Avengers   \n",
       "\n",
       "                                        Powers      Role Power Level  \n",
       "40       Superhuman strength, Tentacle control      Hero         Low  \n",
       "41                 Illusion creation, Hypnosis   Villain         Low  \n",
       "42             Superhuman strength, Durability   Villain         Low  \n",
       "43         Symbiote bonding, Enhanced strength  Antihero         Low  \n",
       "44  Flight, Superhuman strength, Cosmic energy      Hero         Low  "
      ]
     },
     "execution_count": 8,
     "metadata": {},
     "output_type": "execute_result"
    }
   ],
   "source": [
    "marvel.tail()"
   ]
  },
  {
   "cell_type": "code",
   "execution_count": 10,
   "id": "51b0a5d4-a5d3-4ebc-9aa3-5a2aa7647f1e",
   "metadata": {},
   "outputs": [
    {
     "data": {
      "text/plain": [
       "Role\n",
       "Hero        35\n",
       "Villain      8\n",
       "Antihero     2\n",
       "Name: count, dtype: int64"
      ]
     },
     "execution_count": 10,
     "metadata": {},
     "output_type": "execute_result"
    }
   ],
   "source": [
    "marvel['Role'].value_counts()"
   ]
  },
  {
   "cell_type": "code",
   "execution_count": 11,
   "id": "25b95c79-41b9-4afc-af60-395ffc859742",
   "metadata": {},
   "outputs": [
    {
     "data": {
      "text/plain": [
       "Role\n",
       "Hero        35\n",
       "Villain      8\n",
       "Antihero     2\n",
       "Name: count, dtype: int64"
      ]
     },
     "execution_count": 11,
     "metadata": {},
     "output_type": "execute_result"
    }
   ],
   "source": [
    "marvel['Role'].value_counts()[0:5]"
   ]
  },
  {
   "cell_type": "code",
   "execution_count": 15,
   "id": "b7b3f8b0-d472-4e7f-9601-3198dace0bed",
   "metadata": {},
   "outputs": [
    {
     "data": {
      "text/html": [
       "<div>\n",
       "<style scoped>\n",
       "    .dataframe tbody tr th:only-of-type {\n",
       "        vertical-align: middle;\n",
       "    }\n",
       "\n",
       "    .dataframe tbody tr th {\n",
       "        vertical-align: top;\n",
       "    }\n",
       "\n",
       "    .dataframe thead th {\n",
       "        text-align: right;\n",
       "    }\n",
       "</style>\n",
       "<table border=\"1\" class=\"dataframe\">\n",
       "  <thead>\n",
       "    <tr style=\"text-align: right;\">\n",
       "      <th></th>\n",
       "      <th>Character</th>\n",
       "      <th>Real Name</th>\n",
       "      <th>Affiliation</th>\n",
       "      <th>Powers</th>\n",
       "      <th>Role</th>\n",
       "      <th>Power Level</th>\n",
       "    </tr>\n",
       "  </thead>\n",
       "  <tbody>\n",
       "    <tr>\n",
       "      <th>0</th>\n",
       "      <td>iron man</td>\n",
       "      <td>Tony Stark</td>\n",
       "      <td>Avengers</td>\n",
       "      <td>Powered Armor, Genius-level intellect</td>\n",
       "      <td>Hero</td>\n",
       "      <td>Low</td>\n",
       "    </tr>\n",
       "    <tr>\n",
       "      <th>1</th>\n",
       "      <td>captain america</td>\n",
       "      <td>Steve Rogers</td>\n",
       "      <td>Avengers</td>\n",
       "      <td>Super Soldier, Enhanced strength</td>\n",
       "      <td>Hero</td>\n",
       "      <td>Low</td>\n",
       "    </tr>\n",
       "    <tr>\n",
       "      <th>2</th>\n",
       "      <td>thor</td>\n",
       "      <td>Thor Odinson</td>\n",
       "      <td>Avengers</td>\n",
       "      <td>God of Thunder, Weather manipulation</td>\n",
       "      <td>Hero</td>\n",
       "      <td>Low</td>\n",
       "    </tr>\n",
       "    <tr>\n",
       "      <th>3</th>\n",
       "      <td>black widow</td>\n",
       "      <td>Natasha Romanoff</td>\n",
       "      <td>Avengers</td>\n",
       "      <td>Superhuman strength, Espionage</td>\n",
       "      <td>Hero</td>\n",
       "      <td>Low</td>\n",
       "    </tr>\n",
       "    <tr>\n",
       "      <th>4</th>\n",
       "      <td>hulk</td>\n",
       "      <td>Bruce Banner</td>\n",
       "      <td>Avengers</td>\n",
       "      <td>Superhuman strength, Gamma Radiation</td>\n",
       "      <td>Hero</td>\n",
       "      <td>Low</td>\n",
       "    </tr>\n",
       "  </tbody>\n",
       "</table>\n",
       "</div>"
      ],
      "text/plain": [
       "         Character         Real Name Affiliation  \\\n",
       "0         iron man        Tony Stark    Avengers   \n",
       "1  captain america      Steve Rogers    Avengers   \n",
       "2             thor      Thor Odinson    Avengers   \n",
       "3      black widow  Natasha Romanoff    Avengers   \n",
       "4             hulk      Bruce Banner    Avengers   \n",
       "\n",
       "                                  Powers  Role Power Level  \n",
       "0  Powered Armor, Genius-level intellect  Hero         Low  \n",
       "1       Super Soldier, Enhanced strength  Hero         Low  \n",
       "2   God of Thunder, Weather manipulation  Hero         Low  \n",
       "3         Superhuman strength, Espionage  Hero         Low  \n",
       "4   Superhuman strength, Gamma Radiation  Hero         Low  "
      ]
     },
     "execution_count": 15,
     "metadata": {},
     "output_type": "execute_result"
    }
   ],
   "source": [
    "marvel[marvel[\"Role\"]=='Hero'][:5]"
   ]
  },
  {
   "cell_type": "code",
   "execution_count": 16,
   "id": "35597ce6-649b-4919-bbd8-7479cd6af39f",
   "metadata": {},
   "outputs": [],
   "source": [
    "good=marvel[marvel['Role']=='Hero']"
   ]
  },
  {
   "cell_type": "code",
   "execution_count": 18,
   "id": "a3e2a364-7599-40e9-a688-330119e8d187",
   "metadata": {},
   "outputs": [
    {
     "data": {
      "text/html": [
       "<div>\n",
       "<style scoped>\n",
       "    .dataframe tbody tr th:only-of-type {\n",
       "        vertical-align: middle;\n",
       "    }\n",
       "\n",
       "    .dataframe tbody tr th {\n",
       "        vertical-align: top;\n",
       "    }\n",
       "\n",
       "    .dataframe thead th {\n",
       "        text-align: right;\n",
       "    }\n",
       "</style>\n",
       "<table border=\"1\" class=\"dataframe\">\n",
       "  <thead>\n",
       "    <tr style=\"text-align: right;\">\n",
       "      <th></th>\n",
       "      <th>Character</th>\n",
       "      <th>Real Name</th>\n",
       "      <th>Affiliation</th>\n",
       "      <th>Powers</th>\n",
       "      <th>Role</th>\n",
       "      <th>Power Level</th>\n",
       "    </tr>\n",
       "  </thead>\n",
       "  <tbody>\n",
       "    <tr>\n",
       "      <th>37</th>\n",
       "      <td>invisible woman</td>\n",
       "      <td>Ben Grimm</td>\n",
       "      <td>Fantastic Four</td>\n",
       "      <td>Invisibility, Force field generation</td>\n",
       "      <td>Hero</td>\n",
       "      <td>Low</td>\n",
       "    </tr>\n",
       "    <tr>\n",
       "      <th>38</th>\n",
       "      <td>human torch</td>\n",
       "      <td>Otto Octavius</td>\n",
       "      <td>Fantastic Four</td>\n",
       "      <td>Pyrokinesis, Flight</td>\n",
       "      <td>Hero</td>\n",
       "      <td>Low</td>\n",
       "    </tr>\n",
       "    <tr>\n",
       "      <th>39</th>\n",
       "      <td>thing</td>\n",
       "      <td>Quentin Beck</td>\n",
       "      <td>Sinister Six</td>\n",
       "      <td>Superhuman strength, Durability</td>\n",
       "      <td>Hero</td>\n",
       "      <td>Low</td>\n",
       "    </tr>\n",
       "    <tr>\n",
       "      <th>40</th>\n",
       "      <td>doctor octopus</td>\n",
       "      <td>Mac Gargan</td>\n",
       "      <td>Sinister Six</td>\n",
       "      <td>Superhuman strength, Tentacle control</td>\n",
       "      <td>Hero</td>\n",
       "      <td>Low</td>\n",
       "    </tr>\n",
       "    <tr>\n",
       "      <th>44</th>\n",
       "      <td>captain marvel</td>\n",
       "      <td>Carol Danvers</td>\n",
       "      <td>Avengers</td>\n",
       "      <td>Flight, Superhuman strength, Cosmic energy</td>\n",
       "      <td>Hero</td>\n",
       "      <td>Low</td>\n",
       "    </tr>\n",
       "  </tbody>\n",
       "</table>\n",
       "</div>"
      ],
      "text/plain": [
       "          Character      Real Name     Affiliation  \\\n",
       "37  invisible woman      Ben Grimm  Fantastic Four   \n",
       "38      human torch  Otto Octavius  Fantastic Four   \n",
       "39            thing   Quentin Beck    Sinister Six   \n",
       "40   doctor octopus     Mac Gargan    Sinister Six   \n",
       "44   captain marvel  Carol Danvers        Avengers   \n",
       "\n",
       "                                        Powers  Role Power Level  \n",
       "37        Invisibility, Force field generation  Hero         Low  \n",
       "38                         Pyrokinesis, Flight  Hero         Low  \n",
       "39             Superhuman strength, Durability  Hero         Low  \n",
       "40       Superhuman strength, Tentacle control  Hero         Low  \n",
       "44  Flight, Superhuman strength, Cosmic energy  Hero         Low  "
      ]
     },
     "execution_count": 18,
     "metadata": {},
     "output_type": "execute_result"
    }
   ],
   "source": [
    "good.tail()"
   ]
  },
  {
   "cell_type": "code",
   "execution_count": 20,
   "id": "f3cbbc6b-7315-44f3-ad1d-91236a78c769",
   "metadata": {},
   "outputs": [
    {
     "data": {
      "text/html": [
       "<div>\n",
       "<style scoped>\n",
       "    .dataframe tbody tr th:only-of-type {\n",
       "        vertical-align: middle;\n",
       "    }\n",
       "\n",
       "    .dataframe tbody tr th {\n",
       "        vertical-align: top;\n",
       "    }\n",
       "\n",
       "    .dataframe thead th {\n",
       "        text-align: right;\n",
       "    }\n",
       "</style>\n",
       "<table border=\"1\" class=\"dataframe\">\n",
       "  <thead>\n",
       "    <tr style=\"text-align: right;\">\n",
       "      <th></th>\n",
       "      <th>Character</th>\n",
       "      <th>Real Name</th>\n",
       "      <th>Affiliation</th>\n",
       "      <th>Powers</th>\n",
       "      <th>Role</th>\n",
       "      <th>Power Level</th>\n",
       "    </tr>\n",
       "  </thead>\n",
       "  <tbody>\n",
       "    <tr>\n",
       "      <th>0</th>\n",
       "      <td>iron man</td>\n",
       "      <td>Tony Stark</td>\n",
       "      <td>Avengers</td>\n",
       "      <td>Powered Armor, Genius-level intellect</td>\n",
       "      <td>Hero</td>\n",
       "      <td>Low</td>\n",
       "    </tr>\n",
       "    <tr>\n",
       "      <th>30</th>\n",
       "      <td>valkyrie</td>\n",
       "      <td>Brunnhilde</td>\n",
       "      <td>Defenders</td>\n",
       "      <td>Superhuman intelligence, Tentacle control</td>\n",
       "      <td>Hero</td>\n",
       "      <td>Low</td>\n",
       "    </tr>\n",
       "    <tr>\n",
       "      <th>24</th>\n",
       "      <td>bucky barnes</td>\n",
       "      <td>James Buchanan Barnes</td>\n",
       "      <td>Avengers</td>\n",
       "      <td>Superhuman strength, Regeneration</td>\n",
       "      <td>Hero</td>\n",
       "      <td>Low</td>\n",
       "    </tr>\n",
       "    <tr>\n",
       "      <th>25</th>\n",
       "      <td>falcon</td>\n",
       "      <td>Sam Wilson</td>\n",
       "      <td>Avengers</td>\n",
       "      <td>Chi manipulation, Martial arts expert</td>\n",
       "      <td>Hero</td>\n",
       "      <td>Low</td>\n",
       "    </tr>\n",
       "    <tr>\n",
       "      <th>26</th>\n",
       "      <td>shang-chi</td>\n",
       "      <td>Shang-Chi</td>\n",
       "      <td>Avengers</td>\n",
       "      <td>Skilled combatant, Weapon mastery</td>\n",
       "      <td>Hero</td>\n",
       "      <td>Low</td>\n",
       "    </tr>\n",
       "  </tbody>\n",
       "</table>\n",
       "</div>"
      ],
      "text/plain": [
       "       Character              Real Name Affiliation  \\\n",
       "0       iron man             Tony Stark    Avengers   \n",
       "30      valkyrie             Brunnhilde   Defenders   \n",
       "24  bucky barnes  James Buchanan Barnes    Avengers   \n",
       "25        falcon             Sam Wilson    Avengers   \n",
       "26     shang-chi              Shang-Chi    Avengers   \n",
       "\n",
       "                                       Powers  Role Power Level  \n",
       "0       Powered Armor, Genius-level intellect  Hero         Low  \n",
       "30  Superhuman intelligence, Tentacle control  Hero         Low  \n",
       "24          Superhuman strength, Regeneration  Hero         Low  \n",
       "25      Chi manipulation, Martial arts expert  Hero         Low  \n",
       "26          Skilled combatant, Weapon mastery  Hero         Low  "
      ]
     },
     "execution_count": 20,
     "metadata": {},
     "output_type": "execute_result"
    }
   ],
   "source": [
    "good.sort_values(by=['Power Level'],ascending=False).head()"
   ]
  },
  {
   "cell_type": "code",
   "execution_count": 25,
   "id": "fd555b76-8d2e-4c26-a2fe-77be9ffc06a0",
   "metadata": {},
   "outputs": [],
   "source": [
    "low_power=marvel[marvel['Power Level']=='Low']"
   ]
  },
  {
   "cell_type": "code",
   "execution_count": 26,
   "id": "2de059b7-b133-4f00-bdd9-88db9f21af0e",
   "metadata": {},
   "outputs": [
    {
     "data": {
      "text/html": [
       "<div>\n",
       "<style scoped>\n",
       "    .dataframe tbody tr th:only-of-type {\n",
       "        vertical-align: middle;\n",
       "    }\n",
       "\n",
       "    .dataframe tbody tr th {\n",
       "        vertical-align: top;\n",
       "    }\n",
       "\n",
       "    .dataframe thead th {\n",
       "        text-align: right;\n",
       "    }\n",
       "</style>\n",
       "<table border=\"1\" class=\"dataframe\">\n",
       "  <thead>\n",
       "    <tr style=\"text-align: right;\">\n",
       "      <th></th>\n",
       "      <th>Character</th>\n",
       "      <th>Real Name</th>\n",
       "      <th>Affiliation</th>\n",
       "      <th>Powers</th>\n",
       "      <th>Role</th>\n",
       "      <th>Power Level</th>\n",
       "    </tr>\n",
       "  </thead>\n",
       "  <tbody>\n",
       "    <tr>\n",
       "      <th>0</th>\n",
       "      <td>iron man</td>\n",
       "      <td>Tony Stark</td>\n",
       "      <td>Avengers</td>\n",
       "      <td>Powered Armor, Genius-level intellect</td>\n",
       "      <td>Hero</td>\n",
       "      <td>Low</td>\n",
       "    </tr>\n",
       "    <tr>\n",
       "      <th>1</th>\n",
       "      <td>captain america</td>\n",
       "      <td>Steve Rogers</td>\n",
       "      <td>Avengers</td>\n",
       "      <td>Super Soldier, Enhanced strength</td>\n",
       "      <td>Hero</td>\n",
       "      <td>Low</td>\n",
       "    </tr>\n",
       "    <tr>\n",
       "      <th>2</th>\n",
       "      <td>thor</td>\n",
       "      <td>Thor Odinson</td>\n",
       "      <td>Avengers</td>\n",
       "      <td>God of Thunder, Weather manipulation</td>\n",
       "      <td>Hero</td>\n",
       "      <td>Low</td>\n",
       "    </tr>\n",
       "    <tr>\n",
       "      <th>3</th>\n",
       "      <td>black widow</td>\n",
       "      <td>Natasha Romanoff</td>\n",
       "      <td>Avengers</td>\n",
       "      <td>Superhuman strength, Espionage</td>\n",
       "      <td>Hero</td>\n",
       "      <td>Low</td>\n",
       "    </tr>\n",
       "    <tr>\n",
       "      <th>4</th>\n",
       "      <td>hulk</td>\n",
       "      <td>Bruce Banner</td>\n",
       "      <td>Avengers</td>\n",
       "      <td>Superhuman strength, Gamma Radiation</td>\n",
       "      <td>Hero</td>\n",
       "      <td>Low</td>\n",
       "    </tr>\n",
       "  </tbody>\n",
       "</table>\n",
       "</div>"
      ],
      "text/plain": [
       "         Character         Real Name Affiliation  \\\n",
       "0         iron man        Tony Stark    Avengers   \n",
       "1  captain america      Steve Rogers    Avengers   \n",
       "2             thor      Thor Odinson    Avengers   \n",
       "3      black widow  Natasha Romanoff    Avengers   \n",
       "4             hulk      Bruce Banner    Avengers   \n",
       "\n",
       "                                  Powers  Role Power Level  \n",
       "0  Powered Armor, Genius-level intellect  Hero         Low  \n",
       "1       Super Soldier, Enhanced strength  Hero         Low  \n",
       "2   God of Thunder, Weather manipulation  Hero         Low  \n",
       "3         Superhuman strength, Espionage  Hero         Low  \n",
       "4   Superhuman strength, Gamma Radiation  Hero         Low  "
      ]
     },
     "execution_count": 26,
     "metadata": {},
     "output_type": "execute_result"
    }
   ],
   "source": [
    "low_power.head()"
   ]
  },
  {
   "cell_type": "code",
   "execution_count": 27,
   "id": "bf0ade1d-a9b6-4780-bcc7-9a7121ae7c57",
   "metadata": {},
   "outputs": [
    {
     "data": {
      "text/plain": [
       "(45, 6)"
      ]
     },
     "execution_count": 27,
     "metadata": {},
     "output_type": "execute_result"
    }
   ],
   "source": [
    "low_power.shape\n"
   ]
  },
  {
   "cell_type": "code",
   "execution_count": 28,
   "id": "717d9417-5018-4c1f-9fbe-25cf23ad45a2",
   "metadata": {},
   "outputs": [],
   "source": [
    "villa=marvel[marvel['Role']=='Villian']"
   ]
  },
  {
   "cell_type": "code",
   "execution_count": 30,
   "id": "a49bcbfd-aa0c-48f2-903c-b967dbbfcd31",
   "metadata": {},
   "outputs": [
    {
     "data": {
      "text/plain": [
       "(0, 6)"
      ]
     },
     "execution_count": 30,
     "metadata": {},
     "output_type": "execute_result"
    }
   ],
   "source": [
    "villa.shape\n"
   ]
  },
  {
   "cell_type": "code",
   "execution_count": 31,
   "id": "86ae7f6e-6be8-49f0-b161-c2f4bee59149",
   "metadata": {},
   "outputs": [
    {
     "data": {
      "text/plain": [
       "0"
      ]
     },
     "execution_count": 31,
     "metadata": {},
     "output_type": "execute_result"
    }
   ],
   "source": [
    "villa.size"
   ]
  },
  {
   "cell_type": "code",
   "execution_count": null,
   "id": "5fcbf5c4-eeab-4a55-ab7e-f5fe150b4cc5",
   "metadata": {},
   "outputs": [],
   "source": []
  }
 ],
 "metadata": {
  "kernelspec": {
   "display_name": "Python 3 (ipykernel)",
   "language": "python",
   "name": "python3"
  },
  "language_info": {
   "codemirror_mode": {
    "name": "ipython",
    "version": 3
   },
   "file_extension": ".py",
   "mimetype": "text/x-python",
   "name": "python",
   "nbconvert_exporter": "python",
   "pygments_lexer": "ipython3",
   "version": "3.12.7"
  }
 },
 "nbformat": 4,
 "nbformat_minor": 5
}
