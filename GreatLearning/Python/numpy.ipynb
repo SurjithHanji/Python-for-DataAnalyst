{
 "cells": [
  {
   "cell_type": "markdown",
   "id": "5b44e931-f9e3-436e-be96-759455d88117",
   "metadata": {},
   "source": [
    "NUMPY"
   ]
  },
  {
   "cell_type": "code",
   "execution_count": 1,
   "id": "ae091ddf-2f33-40f4-9039-325a793aff0b",
   "metadata": {},
   "outputs": [],
   "source": [
    "import numpy as np"
   ]
  },
  {
   "cell_type": "code",
   "execution_count": 4,
   "id": "499f56f0-0515-4147-8927-8111e47022dc",
   "metadata": {},
   "outputs": [
    {
     "name": "stdout",
     "output_type": "stream",
     "text": [
      "[10 20 30]\n"
     ]
    }
   ],
   "source": [
    "n1=np.array([10,20,30])\n",
    "print(n1)"
   ]
  },
  {
   "cell_type": "code",
   "execution_count": 6,
   "id": "f674e86d-ff16-4122-ba20-d6116831a71f",
   "metadata": {},
   "outputs": [
    {
     "name": "stdout",
     "output_type": "stream",
     "text": [
      "[ 10  30 405 506]\n"
     ]
    }
   ],
   "source": [
    "l1=[10,30,405,506]\n",
    "x=np.array(l1)\n",
    "print(x)"
   ]
  },
  {
   "cell_type": "code",
   "execution_count": 7,
   "id": "00f027bb-7ba7-43a6-8340-af161ee7e34c",
   "metadata": {},
   "outputs": [
    {
     "name": "stdout",
     "output_type": "stream",
     "text": [
      "<class 'numpy.ndarray'>\n"
     ]
    }
   ],
   "source": [
    "print(type(x))"
   ]
  },
  {
   "cell_type": "code",
   "execution_count": 11,
   "id": "3d3676b5-c933-4c85-891c-2cb510df8d8b",
   "metadata": {},
   "outputs": [
    {
     "name": "stdout",
     "output_type": "stream",
     "text": [
      "[[ 20  10 100]\n",
      " [ 40  30  60]]\n",
      "<class 'numpy.ndarray'>\n",
      "int32\n"
     ]
    }
   ],
   "source": [
    "import numpy as np\n",
    "n2 = np.array([[20,10,100],[40,30,60]])\n",
    "print(n2)\n",
    "print(type(n2))\n",
    "print(n2.dtype)\n"
   ]
  },
  {
   "cell_type": "code",
   "execution_count": 13,
   "id": "9a2764e5-95ce-40ac-9277-5c34accb66af",
   "metadata": {},
   "outputs": [
    {
     "name": "stdout",
     "output_type": "stream",
     "text": [
      "[[0. 0.]]\n",
      "[[1. 1. 1. 1. 1.]\n",
      " [1. 1. 1. 1. 1.]\n",
      " [1. 1. 1. 1. 1.]\n",
      " [1. 1. 1. 1. 1.]]\n"
     ]
    }
   ],
   "source": [
    "n3=np.zeros((1,2))\n",
    "print(n3)\n",
    "n4=np.ones((4,5))\n",
    "print(n4)"
   ]
  },
  {
   "cell_type": "code",
   "execution_count": 14,
   "id": "84f21d76-96e1-4ff6-8296-9e322fedfe6d",
   "metadata": {},
   "outputs": [
    {
     "name": "stdout",
     "output_type": "stream",
     "text": [
      "[[10 10 10]\n",
      " [10 10 10]\n",
      " [10 10 10]]\n"
     ]
    }
   ],
   "source": [
    "n5=np.full((3,3),10)\n",
    "print(n5)"
   ]
  },
  {
   "cell_type": "code",
   "execution_count": 15,
   "id": "6756c245-0127-4971-aa09-358a3bbef319",
   "metadata": {},
   "outputs": [
    {
     "name": "stdout",
     "output_type": "stream",
     "text": [
      "[10 11 12 13 14 15 16 17 18 19]\n"
     ]
    }
   ],
   "source": [
    "n6=np.arange(10,20)\n",
    "print(n6)"
   ]
  },
  {
   "cell_type": "code",
   "execution_count": 16,
   "id": "a70301c0-3325-42f9-89d3-7a6f1fb095bf",
   "metadata": {},
   "outputs": [
    {
     "name": "stdout",
     "output_type": "stream",
     "text": [
      "[20 25 30 35 40 45]\n",
      "[20 19 18 17 16 15 14 13 12 11]\n"
     ]
    }
   ],
   "source": [
    "n7=np.arange(20,50,5)\n",
    "print(n7)\n",
    "n8=np.arange(20,10,-1)\n",
    "print(n8)"
   ]
  },
  {
   "cell_type": "code",
   "execution_count": 19,
   "id": "79c941ff-e08e-45a3-90c6-c0257bc06a5f",
   "metadata": {},
   "outputs": [
    {
     "name": "stdout",
     "output_type": "stream",
     "text": [
      "[95 93 17 63 75]\n",
      "\n",
      "[4 3 3 4 4 4 7 1 6 8]\n"
     ]
    }
   ],
   "source": [
    "n9=np.random.randint(1,100,5)\n",
    "print(n9)\n",
    "print()\n",
    "n10=np.random.randint(0,10,10)\n",
    "print(n10)"
   ]
  },
  {
   "cell_type": "code",
   "execution_count": 20,
   "id": "6d58be50-8520-4c6c-b0c9-e3ef2334df42",
   "metadata": {},
   "outputs": [
    {
     "name": "stdout",
     "output_type": "stream",
     "text": [
      "(2, 5)\n"
     ]
    }
   ],
   "source": [
    "n11=np.array([[20,10,20,30,50],[40,30,20,30,10]])\n",
    "print(n11.shape)"
   ]
  },
  {
   "cell_type": "code",
   "execution_count": 21,
   "id": "1e254027-4319-40ab-9a3c-3f4ddac963cc",
   "metadata": {},
   "outputs": [
    {
     "name": "stdout",
     "output_type": "stream",
     "text": [
      "[[20 10]\n",
      " [20 30]\n",
      " [50 40]\n",
      " [30 20]\n",
      " [30 10]]\n"
     ]
    }
   ],
   "source": [
    "n11.shape=(5,2)\n",
    "print(n11)"
   ]
  },
  {
   "cell_type": "code",
   "execution_count": 24,
   "id": "427ad1e3-4629-4e7f-b40a-e0f3b0867707",
   "metadata": {},
   "outputs": [
    {
     "name": "stdout",
     "output_type": "stream",
     "text": [
      "[[20 10 20 30 50]\n",
      " [40 30 20 30 10]]\n"
     ]
    }
   ],
   "source": [
    "n11=np.array([20,10,20,30,50])\n",
    "n12=np.array([40,30,20,30,10])\n",
    "x=np.vstack((n11,n12))\n",
    "print(x)"
   ]
  },
  {
   "cell_type": "code",
   "execution_count": 26,
   "id": "69ae51c8-ddbe-4b7d-9701-ed84ed761c55",
   "metadata": {},
   "outputs": [
    {
     "name": "stdout",
     "output_type": "stream",
     "text": [
      "[20 10 20 30 50 40 30 20 30 10]\n"
     ]
    }
   ],
   "source": [
    "print(np.hstack((n11,n12)))"
   ]
  },
  {
   "cell_type": "code",
   "execution_count": 27,
   "id": "0e3d3349-8323-40b4-9e3f-17e72a91cb6d",
   "metadata": {},
   "outputs": [
    {
     "name": "stdout",
     "output_type": "stream",
     "text": [
      "[[20 40]\n",
      " [10 30]\n",
      " [20 20]\n",
      " [30 30]\n",
      " [50 10]]\n"
     ]
    }
   ],
   "source": [
    "print(np.column_stack((n11,n12)))"
   ]
  },
  {
   "cell_type": "code",
   "execution_count": 29,
   "id": "91d51450-3060-4481-af42-06c67a64eed4",
   "metadata": {},
   "outputs": [
    {
     "name": "stdout",
     "output_type": "stream",
     "text": [
      "[10 20 30]\n"
     ]
    }
   ],
   "source": [
    "n11=np.array([20,10,20,30,50])\n",
    "n12=np.array([40,30,20,30,10,100,90])\n",
    "print(np.intersect1d(n1,n2))"
   ]
  },
  {
   "cell_type": "code",
   "execution_count": 31,
   "id": "9cc83735-98cf-4127-991b-7ad1feb1b6e5",
   "metadata": {},
   "outputs": [
    {
     "name": "stdout",
     "output_type": "stream",
     "text": [
      "[ 40  60 100]\n"
     ]
    }
   ],
   "source": [
    "print(np.setdiff1d(n2,n1))"
   ]
  },
  {
   "cell_type": "code",
   "execution_count": 34,
   "id": "c402043f-613e-4e71-8f73-1cfded0b45fd",
   "metadata": {},
   "outputs": [
    {
     "name": "stdout",
     "output_type": "stream",
     "text": [
      "260\n"
     ]
    }
   ],
   "source": [
    "n11=np.array([20,10,20,30,50])\n",
    "n12=np.array([40,30,20,30,10])\n",
    "print(np.sum([n11,n12]))"
   ]
  },
  {
   "cell_type": "code",
   "execution_count": 35,
   "id": "4e8fb7e8-6959-4850-9ed7-a3e51d9d817b",
   "metadata": {},
   "outputs": [
    {
     "name": "stdout",
     "output_type": "stream",
     "text": [
      "[60 40 40 60 60]\n"
     ]
    }
   ],
   "source": [
    "print(np.sum([n11,n12],axis=0))"
   ]
  },
  {
   "cell_type": "code",
   "execution_count": 36,
   "id": "846610cc-da83-4ff7-9638-e471f8fbac04",
   "metadata": {},
   "outputs": [
    {
     "name": "stdout",
     "output_type": "stream",
     "text": [
      "[130 130]\n"
     ]
    }
   ],
   "source": [
    "print(np.sum([n11,n12],axis=1))"
   ]
  },
  {
   "cell_type": "code",
   "execution_count": 37,
   "id": "2dd1c371-314a-4e3a-82fe-5107e69e33e8",
   "metadata": {},
   "outputs": [
    {
     "name": "stdout",
     "output_type": "stream",
     "text": [
      "[21 11 21 31 51]\n"
     ]
    }
   ],
   "source": [
    "n11=np.array([20,10,20,30,50])\n",
    "n11=n11+1\n",
    "print(n11)"
   ]
  },
  {
   "cell_type": "code",
   "execution_count": 38,
   "id": "a42b209e-9edb-4d63-8204-d37e3daf414d",
   "metadata": {},
   "outputs": [
    {
     "name": "stdout",
     "output_type": "stream",
     "text": [
      "[15  5 15 25 45]\n"
     ]
    }
   ],
   "source": [
    "n11=np.array([20,10,20,30,50])\n",
    "n11-=5\n",
    "print(n11)"
   ]
  },
  {
   "cell_type": "code",
   "execution_count": 39,
   "id": "4e4bfb4c-a459-4e8b-8a98-f866b4a55aa7",
   "metadata": {},
   "outputs": [
    {
     "name": "stdout",
     "output_type": "stream",
     "text": [
      "[150  50 150 250 450]\n"
     ]
    }
   ],
   "source": [
    "n11*=10\n",
    "print(n11)"
   ]
  },
  {
   "cell_type": "code",
   "execution_count": 40,
   "id": "9e96dc4e-94b4-46ac-99ce-00693548d7d2",
   "metadata": {},
   "outputs": [
    {
     "data": {
      "text/plain": [
       "210.0"
      ]
     },
     "execution_count": 40,
     "metadata": {},
     "output_type": "execute_result"
    }
   ],
   "source": [
    "np.mean(n11)"
   ]
  },
  {
   "cell_type": "code",
   "execution_count": 42,
   "id": "993af220-fd1a-44ec-83d4-90bf13b16b9a",
   "metadata": {},
   "outputs": [
    {
     "data": {
      "text/plain": [
       "150.0"
      ]
     },
     "execution_count": 42,
     "metadata": {},
     "output_type": "execute_result"
    }
   ],
   "source": [
    "np.median(n11)"
   ]
  },
  {
   "cell_type": "code",
   "execution_count": 43,
   "id": "ac119d36-e4d1-4168-a4f5-2d9238d79006",
   "metadata": {},
   "outputs": [
    {
     "data": {
      "text/plain": [
       "135.64659966250537"
      ]
     },
     "execution_count": 43,
     "metadata": {},
     "output_type": "execute_result"
    }
   ],
   "source": [
    "np.std(n11)"
   ]
  },
  {
   "cell_type": "code",
   "execution_count": 44,
   "id": "ab2d5711-e7f1-45a0-a908-c9c5d0ed3bee",
   "metadata": {},
   "outputs": [],
   "source": [
    "np.save('my_np',n11)"
   ]
  },
  {
   "cell_type": "code",
   "execution_count": 48,
   "id": "9b87abaa-956a-4b8e-90b8-1668f48594e2",
   "metadata": {},
   "outputs": [
    {
     "ename": "FileNotFoundError",
     "evalue": "[Errno 2] No such file or directory: 'my_npy'",
     "output_type": "error",
     "traceback": [
      "\u001b[1;31m---------------------------------------------------------------------------\u001b[0m",
      "\u001b[1;31mFileNotFoundError\u001b[0m                         Traceback (most recent call last)",
      "Cell \u001b[1;32mIn[48], line 1\u001b[0m\n\u001b[1;32m----> 1\u001b[0m x\u001b[38;5;241m=\u001b[39mnp\u001b[38;5;241m.\u001b[39mload(\u001b[38;5;124m'\u001b[39m\u001b[38;5;124mmy_npy\u001b[39m\u001b[38;5;124m'\u001b[39m)\n",
      "File \u001b[1;32m~\\anaconda3\\Lib\\site-packages\\numpy\\lib\\npyio.py:427\u001b[0m, in \u001b[0;36mload\u001b[1;34m(file, mmap_mode, allow_pickle, fix_imports, encoding, max_header_size)\u001b[0m\n\u001b[0;32m    425\u001b[0m     own_fid \u001b[38;5;241m=\u001b[39m \u001b[38;5;28;01mFalse\u001b[39;00m\n\u001b[0;32m    426\u001b[0m \u001b[38;5;28;01melse\u001b[39;00m:\n\u001b[1;32m--> 427\u001b[0m     fid \u001b[38;5;241m=\u001b[39m stack\u001b[38;5;241m.\u001b[39menter_context(\u001b[38;5;28mopen\u001b[39m(os_fspath(file), \u001b[38;5;124m\"\u001b[39m\u001b[38;5;124mrb\u001b[39m\u001b[38;5;124m\"\u001b[39m))\n\u001b[0;32m    428\u001b[0m     own_fid \u001b[38;5;241m=\u001b[39m \u001b[38;5;28;01mTrue\u001b[39;00m\n\u001b[0;32m    430\u001b[0m \u001b[38;5;66;03m# Code to distinguish from NumPy binary files and pickles.\u001b[39;00m\n",
      "\u001b[1;31mFileNotFoundError\u001b[0m: [Errno 2] No such file or directory: 'my_npy'"
     ]
    }
   ],
   "source": [
    "x=np.load('my_npy')"
   ]
  },
  {
   "cell_type": "code",
   "execution_count": null,
   "id": "2039152f-f7ff-4951-b289-067325cc3bad",
   "metadata": {},
   "outputs": [],
   "source": []
  }
 ],
 "metadata": {
  "kernelspec": {
   "display_name": "Python 3 (ipykernel)",
   "language": "python",
   "name": "python3"
  },
  "language_info": {
   "codemirror_mode": {
    "name": "ipython",
    "version": 3
   },
   "file_extension": ".py",
   "mimetype": "text/x-python",
   "name": "python",
   "nbconvert_exporter": "python",
   "pygments_lexer": "ipython3",
   "version": "3.12.7"
  }
 },
 "nbformat": 4,
 "nbformat_minor": 5
}
